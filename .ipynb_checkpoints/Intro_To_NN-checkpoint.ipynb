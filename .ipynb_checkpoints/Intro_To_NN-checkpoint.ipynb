{
 "cells": [
  {
   "cell_type": "code",
   "execution_count": 1,
   "id": "56cab62b-e423-4b2d-b524-15a83ab0e519",
   "metadata": {},
   "outputs": [],
   "source": [
    "import numpy as np\n",
    "import pandas as pd\n",
    "import matplotlib.pyplot as plt\n",
    "%matplotlib inline"
   ]
  },
  {
   "cell_type": "code",
   "execution_count": 2,
   "id": "565a7536-27e4-4eb7-9e85-8fa14b6cc115",
   "metadata": {},
   "outputs": [],
   "source": [
    "def f(x):\n",
    "    return 3*x**2 - 4*x + 5"
   ]
  },
  {
   "cell_type": "code",
   "execution_count": 3,
   "id": "e295b196-0989-4c92-b515-a6e528a1b464",
   "metadata": {},
   "outputs": [
    {
     "data": {
      "text/plain": [
       "20"
      ]
     },
     "execution_count": 3,
     "metadata": {},
     "output_type": "execute_result"
    }
   ],
   "source": [
    "f(3)"
   ]
  },
  {
   "cell_type": "markdown",
   "id": "0f56a80e-7d77-4f44-a55c-c26d0e371519",
   "metadata": {},
   "source": [
    "Derivative of a function with a single input"
   ]
  },
  {
   "cell_type": "code",
   "execution_count": 5,
   "id": "e835e2ec-3df7-43bb-aa78-d9231d41fa3a",
   "metadata": {},
   "outputs": [
    {
     "data": {
      "text/plain": [
       "array([-5. , -4.5, -4. , -3.5, -3. , -2.5, -2. , -1.5, -1. , -0.5,  0. ,\n",
       "        0.5,  1. ,  1.5,  2. ,  2.5,  3. ,  3.5,  4. ,  4.5])"
      ]
     },
     "execution_count": 5,
     "metadata": {},
     "output_type": "execute_result"
    }
   ],
   "source": [
    "xs = np.arange(-5, 5, 0.5)\n",
    "xs"
   ]
  },
  {
   "cell_type": "code",
   "execution_count": 6,
   "id": "e7833126-af2a-406d-a049-751f7b6a4984",
   "metadata": {},
   "outputs": [
    {
     "data": {
      "text/plain": [
       "array([100.  ,  83.75,  69.  ,  55.75,  44.  ,  33.75,  25.  ,  17.75,\n",
       "        12.  ,   7.75,   5.  ,   3.75,   4.  ,   5.75,   9.  ,  13.75,\n",
       "        20.  ,  27.75,  37.  ,  47.75])"
      ]
     },
     "execution_count": 6,
     "metadata": {},
     "output_type": "execute_result"
    }
   ],
   "source": [
    "ys = f(xs)\n",
    "ys"
   ]
  },
  {
   "cell_type": "code",
   "execution_count": 7,
   "id": "5f6ed913-4727-4515-9334-d80bd6fa895f",
   "metadata": {},
   "outputs": [
    {
     "data": {
      "image/png": "[encoded data removed]",
      "text/plain": [
       "<Figure size 640x480 with 1 Axes>"
      ]
     },
     "metadata": {},
     "output_type": "display_data"
    }
   ],
   "source": [
    "plt.plot(xs, ys)\n",
    "plt.show()"
   ]
  },
  {
   "cell_type": "markdown",
   "id": "18ecdba5-a039-4c48-8ebd-17045aaf37e2",
   "metadata": {},
   "source": [
    "Derivative: the rate of change of a function wrt change in a variable\n",
    "\n",
    "m = lim(h->0) (f(x+h)-f(x))/h"
   ]
  },
  {
   "cell_type": "code",
   "execution_count": 9,
   "id": "1e366742-546b-4f5d-b25f-4859430117d9",
   "metadata": {},
   "outputs": [
    {
     "data": {
      "text/plain": [
       "(20, 20.000014000003002)"
      ]
     },
     "execution_count": 9,
     "metadata": {},
     "output_type": "execute_result"
    }
   ],
   "source": [
    "x = 3\n",
    "h = 0.000001\n",
    "\n",
    "f(x), f(x+h)"
   ]
  },
  {
   "cell_type": "code",
   "execution_count": 10,
   "id": "6858e15d-3d69-45a6-ba94-485cf87e09cd",
   "metadata": {},
   "outputs": [
    {
     "data": {
      "text/plain": [
       "14.000003002223593"
      ]
     },
     "execution_count": 10,
     "metadata": {},
     "output_type": "execute_result"
    }
   ],
   "source": [
    "m = (f(x+h)-f(x))/h\n",
    "m"
   ]
  },
  {
   "cell_type": "markdown",
   "id": "732db755-9624-421e-8c4e-ec46a6f88ed1",
   "metadata": {},
   "source": [
    "14 is the slope/derivative at x=3\n",
    "Same concept applied for multi variable complex equations"
   ]
  },
  {
   "cell_type": "markdown",
   "id": "6631506c-1725-4603-a09c-3c1b317e5734",
   "metadata": {},
   "source": [
    "### Value Class"
   ]
  },
  {
   "cell_type": "code",
   "execution_count": 13,
   "id": "bcf28646-5ed8-48b7-b8c9-effb6dd01dc6",
   "metadata": {},
   "outputs": [],
   "source": [
    "class Value:\n",
    "    def __init__(self, data):\n",
    "        self.data = data\n",
    "\n",
    "    def __repr__(self):\n",
    "        # used to make custom representations\n",
    "        return f\"Value(data={self.data})\"\n",
    "\n",
    "    def __add__(self, other):\n",
    "        # defined + operator for Value objects\n",
    "        # Given: a = Value(x), b = Value(y)\n",
    "        # Then: a+b = a.__add__(b)\n",
    "        # self=a, other=b\n",
    "        return Value(self.data + other.data)"
   ]
  },
  {
   "cell_type": "code",
   "execution_count": 14,
   "id": "f973bad4-145c-4d61-8bde-b0844c868ae9",
   "metadata": {},
   "outputs": [
    {
     "data": {
      "text/plain": [
       "Value(data=3.0)"
      ]
     },
     "execution_count": 14,
     "metadata": {},
     "output_type": "execute_result"
    }
   ],
   "source": [
    "a = Value(3.0)\n",
    "a"
   ]
  },
  {
   "cell_type": "code",
   "execution_count": 15,
   "id": "db3b17c9-ab82-4c39-ab7e-b30398eacd6b",
   "metadata": {},
   "outputs": [
    {
     "data": {
      "text/plain": [
       "Value(data=-2)"
      ]
     },
     "execution_count": 15,
     "metadata": {},
     "output_type": "execute_result"
    }
   ],
   "source": [
    "b = Value(-2)\n",
    "b"
   ]
  },
  {
   "cell_type": "code",
   "execution_count": 16,
   "id": "616f6519-0c21-4eca-8c03-204414948074",
   "metadata": {},
   "outputs": [
    {
     "data": {
      "text/plain": [
       "Value(data=1.0)"
      ]
     },
     "execution_count": 16,
     "metadata": {},
     "output_type": "execute_result"
    }
   ],
   "source": [
    "c = a+b\n",
    "c"
   ]
  },
  {
   "cell_type": "code",
   "execution_count": 17,
   "id": "7218e54a-137b-4f7b-83eb-dd4584bae279",
   "metadata": {},
   "outputs": [
    {
     "data": {
      "text/plain": [
       "Value(data=hello)"
      ]
     },
     "execution_count": 17,
     "metadata": {},
     "output_type": "execute_result"
    }
   ],
   "source": [
    "e = Value(\"hello\")\n",
    "e"
   ]
  },
  {
   "cell_type": "code",
   "execution_count": 18,
   "id": "1efa398a-703c-46fd-8836-33b75373251e",
   "metadata": {},
   "outputs": [
    {
     "ename": "AttributeError",
     "evalue": "'int' object has no attribute 'data'",
     "output_type": "error",
     "traceback": [
      "\u001b[1;31m---------------------------------------------------------------------------\u001b[0m",
      "\u001b[1;31mAttributeError\u001b[0m                            Traceback (most recent call last)",
      "Cell \u001b[1;32mIn[18], line 1\u001b[0m\n\u001b[1;32m----> 1\u001b[0m f \u001b[38;5;241m=\u001b[39m a\u001b[38;5;241m+\u001b[39m\u001b[38;5;241m4\u001b[39m\n\u001b[0;32m      2\u001b[0m f\n",
      "Cell \u001b[1;32mIn[13], line 14\u001b[0m, in \u001b[0;36mValue.__add__\u001b[1;34m(self, other)\u001b[0m\n\u001b[0;32m      9\u001b[0m \u001b[38;5;28;01mdef\u001b[39;00m \u001b[38;5;21m__add__\u001b[39m(\u001b[38;5;28mself\u001b[39m, other):\n\u001b[0;32m     10\u001b[0m     \u001b[38;5;66;03m# defined + operator for Value objects\u001b[39;00m\n\u001b[0;32m     11\u001b[0m     \u001b[38;5;66;03m# Given: a = Value(x), b = Value(y)\u001b[39;00m\n\u001b[0;32m     12\u001b[0m     \u001b[38;5;66;03m# Then: a+b = a.__add__(b)\u001b[39;00m\n\u001b[0;32m     13\u001b[0m     \u001b[38;5;66;03m# self=a, other=b\u001b[39;00m\n\u001b[1;32m---> 14\u001b[0m     \u001b[38;5;28;01mreturn\u001b[39;00m Value(\u001b[38;5;28mself\u001b[39m\u001b[38;5;241m.\u001b[39mdata \u001b[38;5;241m+\u001b[39m other\u001b[38;5;241m.\u001b[39mdata)\n",
      "\u001b[1;31mAttributeError\u001b[0m: 'int' object has no attribute 'data'"
     ]
    }
   ],
   "source": [
    "f = a+4\n",
    "f"
   ]
  },
  {
   "cell_type": "markdown",
   "id": "7deef2ce-4368-463a-820b-acee31de8e68",
   "metadata": {},
   "source": [
    "This class Value takes all types of input, let's limit it to numerics"
   ]
  },
  {
   "cell_type": "code",
   "execution_count": 28,
   "id": "d18c39d2-7d57-40f4-9300-ebbc36a40e76",
   "metadata": {},
   "outputs": [],
   "source": [
    "class Value:\n",
    "    def __init__(self, data):\n",
    "        if not isinstance(data, (int, float)):\n",
    "            raise TypeError(f\"Value only accepts numeric types (int or float), got {type(data).__name__}\")\n",
    "        self.data = data\n",
    "\n",
    "    def __repr__(self):\n",
    "        # used to make custom representations\n",
    "        return f\"Value(data={self.data})\"\n",
    "\n",
    "    def __add__(self, other):\n",
    "        # define + operator for Value objects\n",
    "        # Given: a = Value(x), b = Value(y)\n",
    "        # Then: a+b = a.__add__(b)\n",
    "        # self=a, other=b\n",
    "\n",
    "        # To make sure value objects can only be added with other value objects\n",
    "        if not isinstance(other, Value):\n",
    "            raise TypeError(f\"Both operands should be of type: Value, got {type(other).__name__} instead\")\n",
    "        return Value(self.data + other.data)"
   ]
  },
  {
   "cell_type": "code",
   "execution_count": 30,
   "id": "f81c1db0-b716-46bf-a3fe-45bbdbf3ca18",
   "metadata": {},
   "outputs": [
    {
     "data": {
      "text/plain": [
       "Value(data=2.0)"
      ]
     },
     "execution_count": 30,
     "metadata": {},
     "output_type": "execute_result"
    }
   ],
   "source": [
    "a = Value(2.0)\n",
    "a"
   ]
  },
  {
   "cell_type": "code",
   "execution_count": 32,
   "id": "f7e7242d-300e-4a89-b27f-c72c06f2c9ac",
   "metadata": {},
   "outputs": [
    {
     "data": {
      "text/plain": [
       "Value(data=-3.0)"
      ]
     },
     "execution_count": 32,
     "metadata": {},
     "output_type": "execute_result"
    }
   ],
   "source": [
    "b = Value(-3.0)\n",
    "b"
   ]
  },
  {
   "cell_type": "code",
   "execution_count": 34,
   "id": "723244f8-83e1-4058-821a-56fc44ff13ad",
   "metadata": {},
   "outputs": [
    {
     "data": {
      "text/plain": [
       "Value(data=-1.0)"
      ]
     },
     "execution_count": 34,
     "metadata": {},
     "output_type": "execute_result"
    }
   ],
   "source": [
    "c = a+b\n",
    "c"
   ]
  },
  {
   "cell_type": "code",
   "execution_count": 36,
   "id": "75c4b423-d473-4e42-a416-6fcf011f8c44",
   "metadata": {},
   "outputs": [
    {
     "ename": "TypeError",
     "evalue": "Both operands should be of type: Value, got int instead",
     "output_type": "error",
     "traceback": [
      "\u001b[1;31m---------------------------------------------------------------------------\u001b[0m",
      "\u001b[1;31mTypeError\u001b[0m                                 Traceback (most recent call last)",
      "Cell \u001b[1;32mIn[36], line 1\u001b[0m\n\u001b[1;32m----> 1\u001b[0m d \u001b[38;5;241m=\u001b[39m a\u001b[38;5;241m+\u001b[39m\u001b[38;5;241m3\u001b[39m\n",
      "Cell \u001b[1;32mIn[28], line 19\u001b[0m, in \u001b[0;36mValue.__add__\u001b[1;34m(self, other)\u001b[0m\n\u001b[0;32m     11\u001b[0m \u001b[38;5;28;01mdef\u001b[39;00m \u001b[38;5;21m__add__\u001b[39m(\u001b[38;5;28mself\u001b[39m, other):\n\u001b[0;32m     12\u001b[0m     \u001b[38;5;66;03m# define + operator for Value objects\u001b[39;00m\n\u001b[0;32m     13\u001b[0m     \u001b[38;5;66;03m# Given: a = Value(x), b = Value(y)\u001b[39;00m\n\u001b[1;32m   (...)\u001b[0m\n\u001b[0;32m     16\u001b[0m \n\u001b[0;32m     17\u001b[0m     \u001b[38;5;66;03m# To make sure value objects can only be added with other value objects\u001b[39;00m\n\u001b[0;32m     18\u001b[0m     \u001b[38;5;28;01mif\u001b[39;00m \u001b[38;5;129;01mnot\u001b[39;00m \u001b[38;5;28misinstance\u001b[39m(other, Value):\n\u001b[1;32m---> 19\u001b[0m         \u001b[38;5;28;01mraise\u001b[39;00m \u001b[38;5;167;01mTypeError\u001b[39;00m(\u001b[38;5;124mf\u001b[39m\u001b[38;5;124m\"\u001b[39m\u001b[38;5;124mBoth operands should be of type: Value, got \u001b[39m\u001b[38;5;132;01m{\u001b[39;00m\u001b[38;5;28mtype\u001b[39m(other)\u001b[38;5;241m.\u001b[39m\u001b[38;5;18m__name__\u001b[39m\u001b[38;5;132;01m}\u001b[39;00m\u001b[38;5;124m instead\u001b[39m\u001b[38;5;124m\"\u001b[39m)\n\u001b[0;32m     20\u001b[0m     \u001b[38;5;28;01mreturn\u001b[39;00m Value(\u001b[38;5;28mself\u001b[39m\u001b[38;5;241m.\u001b[39mdata \u001b[38;5;241m+\u001b[39m other\u001b[38;5;241m.\u001b[39mdata)\n",
      "\u001b[1;31mTypeError\u001b[0m: Both operands should be of type: Value, got int instead"
     ]
    }
   ],
   "source": [
    "d = a+3"
   ]
  },
  {
   "cell_type": "code",
   "execution_count": 38,
   "id": "f9a3fa07-7cee-4da1-b4ad-820ff850b917",
   "metadata": {},
   "outputs": [
    {
     "ename": "TypeError",
     "evalue": "Value only accepts numeric types (int or float), got str",
     "output_type": "error",
     "traceback": [
      "\u001b[1;31m---------------------------------------------------------------------------\u001b[0m",
      "\u001b[1;31mTypeError\u001b[0m                                 Traceback (most recent call last)",
      "Cell \u001b[1;32mIn[38], line 1\u001b[0m\n\u001b[1;32m----> 1\u001b[0m e \u001b[38;5;241m=\u001b[39m Value(\u001b[38;5;124m\"\u001b[39m\u001b[38;5;124mh\u001b[39m\u001b[38;5;124m\"\u001b[39m)\n",
      "Cell \u001b[1;32mIn[28], line 4\u001b[0m, in \u001b[0;36mValue.__init__\u001b[1;34m(self, data)\u001b[0m\n\u001b[0;32m      2\u001b[0m \u001b[38;5;28;01mdef\u001b[39;00m \u001b[38;5;21m__init__\u001b[39m(\u001b[38;5;28mself\u001b[39m, data):\n\u001b[0;32m      3\u001b[0m     \u001b[38;5;28;01mif\u001b[39;00m \u001b[38;5;129;01mnot\u001b[39;00m \u001b[38;5;28misinstance\u001b[39m(data, (\u001b[38;5;28mint\u001b[39m, \u001b[38;5;28mfloat\u001b[39m)):\n\u001b[1;32m----> 4\u001b[0m         \u001b[38;5;28;01mraise\u001b[39;00m \u001b[38;5;167;01mTypeError\u001b[39;00m(\u001b[38;5;124mf\u001b[39m\u001b[38;5;124m\"\u001b[39m\u001b[38;5;124mValue only accepts numeric types (int or float), got \u001b[39m\u001b[38;5;132;01m{\u001b[39;00m\u001b[38;5;28mtype\u001b[39m(data)\u001b[38;5;241m.\u001b[39m\u001b[38;5;18m__name__\u001b[39m\u001b[38;5;132;01m}\u001b[39;00m\u001b[38;5;124m\"\u001b[39m)\n\u001b[0;32m      5\u001b[0m     \u001b[38;5;28mself\u001b[39m\u001b[38;5;241m.\u001b[39mdata \u001b[38;5;241m=\u001b[39m data\n",
      "\u001b[1;31mTypeError\u001b[0m: Value only accepts numeric types (int or float), got str"
     ]
    }
   ],
   "source": [
    "e = Value(\"h\")"
   ]
  },
  {
   "cell_type": "markdown",
   "id": "5078278b-50d9-4851-b669-3039db5bd778",
   "metadata": {},
   "source": [
    "### Starting the core values of micrograd\n",
    "\n",
    "Keep a track of children of each Value"
   ]
  },
  {
   "cell_type": "code",
   "execution_count": 41,
   "id": "23d24f5f-940b-4a0a-8698-f5e22ede94c6",
   "metadata": {},
   "outputs": [],
   "source": [
    "class Value:\n",
    "    def __init__(self, data, label='', _prev=(), _op=''):\n",
    "        if not isinstance(data, (int, float)):\n",
    "            raise TypeError(f\"Value only accepts numeric types (int or float), got {type(data).__name__}\")\n",
    "        self.data = data * 1.0  # Ensure it's float for consistency\n",
    "        self._prev = set(_prev)\n",
    "        self._op = _op\n",
    "        self.label = label\n",
    "\n",
    "    def __repr__(self):\n",
    "        return f\"Value(data={self.data})\"\n",
    "\n",
    "    def __add__(self, other):\n",
    "        other = other if isinstance(other, Value) else Value(other)\n",
    "        out = Value(self.data + other.data, _prev=(self, other), _op='+')\n",
    "        \n",
    "        return out\n",
    "\n",
    "    def __mul__(self, other):\n",
    "        other = other if isinstance(other, Value) else Value(other)\n",
    "        out = Value(self.data * other.data, _prev=(self, other), _op='*')\n",
    "        \n",
    "        return out"
   ]
  },
  {
   "cell_type": "code",
   "execution_count": 43,
   "id": "9ff0c801-a697-4d2a-a292-11c94c34dc59",
   "metadata": {},
   "outputs": [
    {
     "data": {
      "text/plain": [
       "Value(data=2.0)"
      ]
     },
     "execution_count": 43,
     "metadata": {},
     "output_type": "execute_result"
    }
   ],
   "source": [
    "a = Value(2.0, 'a')\n",
    "a"
   ]
  },
  {
   "cell_type": "code",
   "execution_count": 45,
   "id": "8444b5ab-83df-478f-a7a5-311f51c252e8",
   "metadata": {},
   "outputs": [
    {
     "data": {
      "text/plain": [
       "Value(data=-3.0)"
      ]
     },
     "execution_count": 45,
     "metadata": {},
     "output_type": "execute_result"
    }
   ],
   "source": [
    "b = Value(-3, 'b')\n",
    "b"
   ]
  },
  {
   "cell_type": "code",
   "execution_count": 47,
   "id": "aae287d1-5238-46df-a58f-4262b5f8ef33",
   "metadata": {},
   "outputs": [
    {
     "data": {
      "text/plain": [
       "Value(data=-1.0)"
      ]
     },
     "execution_count": 47,
     "metadata": {},
     "output_type": "execute_result"
    }
   ],
   "source": [
    "c = a+b; c.label='c'\n",
    "c"
   ]
  },
  {
   "cell_type": "code",
   "execution_count": 49,
   "id": "79489548-c4fc-485c-995b-d5be87e07985",
   "metadata": {},
   "outputs": [
    {
     "data": {
      "text/plain": [
       "{Value(data=-3.0), Value(data=2.0)}"
      ]
     },
     "execution_count": 49,
     "metadata": {},
     "output_type": "execute_result"
    }
   ],
   "source": [
    "c._prev"
   ]
  },
  {
   "cell_type": "code",
   "execution_count": 51,
   "id": "15e0fccb-dad7-4138-982b-d17cb820f6a2",
   "metadata": {},
   "outputs": [
    {
     "data": {
      "text/plain": [
       "'+'"
      ]
     },
     "execution_count": 51,
     "metadata": {},
     "output_type": "execute_result"
    }
   ],
   "source": [
    "c._op"
   ]
  },
  {
   "cell_type": "code",
   "execution_count": 53,
   "id": "46775c78-6d9d-44ce-a8c5-7b2510c1d1cd",
   "metadata": {},
   "outputs": [
    {
     "name": "stdout",
     "output_type": "stream",
     "text": [
      "Requirement already satisfied: graphviz in c:\\users\\mpshi\\anaconda3\\lib\\site-packages (0.20.3)\n",
      "Note: you may need to restart the kernel to use updated packages.\n"
     ]
    }
   ],
   "source": [
    "%pip install graphviz"
   ]
  },
  {
   "cell_type": "code",
   "execution_count": 54,
   "id": "4729a4a6-5b9c-465c-8b12-d15e085bfa9e",
   "metadata": {},
   "outputs": [],
   "source": [
    "from graphviz import Digraph\n",
    "\n",
    "def trace(root):\n",
    "    nodes, edges = set(), set()\n",
    "    def build(v):\n",
    "        if v not in nodes:\n",
    "            nodes.add(v)\n",
    "            for child in v._prev:\n",
    "                edges.add((child, v))\n",
    "                build(child)\n",
    "    build(root)\n",
    "    return nodes, edges\n",
    "\n",
    "def draw_dot(root, format='svg', rankdir='LR'):\n",
    "    \"\"\"\n",
    "    format: png | svg | ...\n",
    "    rankdir: TB (top to bottom graph) | LR (left to right)\n",
    "    \"\"\"\n",
    "    assert rankdir in ['LR', 'TB']\n",
    "    nodes, edges = trace(root)\n",
    "    dot = Digraph(format=format, graph_attr={'rankdir': rankdir}) #, node_attr={'rankdir': 'TB'})\n",
    "    \n",
    "    for n in nodes:\n",
    "        dot.node(name=str(id(n)), label = \"{ %s | data %.4f }\" % (n.label, n.data), shape='record')\n",
    "        if n._op:\n",
    "            dot.node(name=str(id(n)) + n._op, label=n._op)\n",
    "            dot.edge(str(id(n)) + n._op, str(id(n)))\n",
    "    \n",
    "    for n1, n2 in edges:\n",
    "        dot.edge(str(id(n1)), str(id(n2)) + n2._op)\n",
    "    \n",
    "    return dot"
   ]
  },
  {
   "cell_type": "code",
   "execution_count": 77,
   "id": "9ff7259a-a25a-4ed7-84fb-0a06df040847",
   "metadata": {},
   "outputs": [],
   "source": [
    "a = Value(2, 'a')\n",
    "b = Value(-3, 'b')\n",
    "c = a*b; c.label='c'\n",
    "e = Value(10, 'e')\n",
    "d = c+e; e.label='e'\n",
    "f = Value(-2, 'f')\n",
    "L = d*f; L.label='L'"
   ]
  },
  {
   "cell_type": "code",
   "execution_count": 79,
   "id": "d70dfcf3-d410-4cdf-bdb2-a16e22a32436",
   "metadata": {},
   "outputs": [
    {
     "data": {
      "image/svg+xml": [
       "<?xml version=\"1.0\" encoding=\"UTF-8\" standalone=\"no\"?>\n",
       "<!DOCTYPE svg PUBLIC \"-//W3C//DTD SVG 1.1//EN\"\n",
       " \"http://www.w3.org/Graphics/SVG/1.1/DTD/svg11.dtd\">\n",
       "<!-- Generated by graphviz version 12.2.1 (20241206.2353)\n",
       " -->\n",
       "<!-- Pages: 1 -->\n",
       "<svg width=\"815pt\" height=\"128pt\"\n",
       " viewBox=\"0.00 0.00 814.75 128.00\" xmlns=\"http://www.w3.org/2000/svg\" xmlns:xlink=\"http://www.w3.org/1999/xlink\">\n",
       "<g id=\"graph0\" class=\"graph\" transform=\"scale(1 1) rotate(0) translate(4 124)\">\n",
       "<polygon fill=\"white\" stroke=\"none\" points=\"-4,4 -4,-124 810.75,-124 810.75,4 -4,4\"/>\n",
       "<!-- 1794345565216 -->\n",
       "<g id=\"node1\" class=\"node\">\n",
       "<title>1794345565216</title>\n",
       "<polygon fill=\"none\" stroke=\"black\" points=\"233,-83.5 233,-119.5 341.5,-119.5 341.5,-83.5 233,-83.5\"/>\n",
       "<text text-anchor=\"middle\" x=\"244\" y=\"-96.7\" font-family=\"Times New Roman,serif\" font-size=\"14.00\">e</text>\n",
       "<polyline fill=\"none\" stroke=\"black\" points=\"255,-84 255,-119.5\"/>\n",
       "<text text-anchor=\"middle\" x=\"298.25\" y=\"-96.7\" font-family=\"Times New Roman,serif\" font-size=\"14.00\">data 10.0000</text>\n",
       "</g>\n",
       "<!-- 1794345564208+ -->\n",
       "<g id=\"node3\" class=\"node\">\n",
       "<title>1794345564208+</title>\n",
       "<ellipse fill=\"none\" stroke=\"black\" cx=\"404.5\" cy=\"-73.5\" rx=\"27\" ry=\"18\"/>\n",
       "<text text-anchor=\"middle\" x=\"404.5\" y=\"-68.45\" font-family=\"Times New Roman,serif\" font-size=\"14.00\">+</text>\n",
       "</g>\n",
       "<!-- 1794345565216&#45;&gt;1794345564208+ -->\n",
       "<g id=\"edge6\" class=\"edge\">\n",
       "<title>1794345565216&#45;&gt;1794345564208+</title>\n",
       "<path fill=\"none\" stroke=\"black\" d=\"M341.83,-88.48C350.54,-86.37 359.37,-84.22 367.53,-82.24\"/>\n",
       "<polygon fill=\"black\" stroke=\"black\" points=\"368.16,-85.69 377.05,-79.93 366.51,-78.89 368.16,-85.69\"/>\n",
       "</g>\n",
       "<!-- 1794345564208 -->\n",
       "<g id=\"node2\" class=\"node\">\n",
       "<title>1794345564208</title>\n",
       "<polygon fill=\"none\" stroke=\"black\" points=\"470.12,-55.5 470.12,-91.5 569.62,-91.5 569.62,-55.5 470.12,-55.5\"/>\n",
       "<text text-anchor=\"middle\" x=\"480\" y=\"-68.7\" font-family=\"Times New Roman,serif\" font-size=\"14.00\"> </text>\n",
       "<polyline fill=\"none\" stroke=\"black\" points=\"489.88,-56 489.88,-91.5\"/>\n",
       "<text text-anchor=\"middle\" x=\"529.75\" y=\"-68.7\" font-family=\"Times New Roman,serif\" font-size=\"14.00\">data 4.0000</text>\n",
       "</g>\n",
       "<!-- 1794307985232* -->\n",
       "<g id=\"node10\" class=\"node\">\n",
       "<title>1794307985232*</title>\n",
       "<ellipse fill=\"none\" stroke=\"black\" cx=\"635.25\" cy=\"-45.5\" rx=\"27\" ry=\"18\"/>\n",
       "<text text-anchor=\"middle\" x=\"635.25\" y=\"-40.45\" font-family=\"Times New Roman,serif\" font-size=\"14.00\">*</text>\n",
       "</g>\n",
       "<!-- 1794345564208&#45;&gt;1794307985232* -->\n",
       "<g id=\"edge5\" class=\"edge\">\n",
       "<title>1794345564208&#45;&gt;1794307985232*</title>\n",
       "<path fill=\"none\" stroke=\"black\" d=\"M569.94,-61.38C579.54,-59.01 589.43,-56.57 598.49,-54.33\"/>\n",
       "<polygon fill=\"black\" stroke=\"black\" points=\"599.1,-57.79 607.97,-51.99 597.42,-50.99 599.1,-57.79\"/>\n",
       "</g>\n",
       "<!-- 1794345564208+&#45;&gt;1794345564208 -->\n",
       "<g id=\"edge1\" class=\"edge\">\n",
       "<title>1794345564208+&#45;&gt;1794345564208</title>\n",
       "<path fill=\"none\" stroke=\"black\" d=\"M431.8,-73.5C439.89,-73.5 449.15,-73.5 458.55,-73.5\"/>\n",
       "<polygon fill=\"black\" stroke=\"black\" points=\"458.5,-77 468.5,-73.5 458.5,-70 458.5,-77\"/>\n",
       "</g>\n",
       "<!-- 1794345555664 -->\n",
       "<g id=\"node4\" class=\"node\">\n",
       "<title>1794345555664</title>\n",
       "<polygon fill=\"none\" stroke=\"black\" points=\"0,-56.5 0,-92.5 107,-92.5 107,-56.5 0,-56.5\"/>\n",
       "<text text-anchor=\"middle\" x=\"11.38\" y=\"-69.7\" font-family=\"Times New Roman,serif\" font-size=\"14.00\">b</text>\n",
       "<polyline fill=\"none\" stroke=\"black\" points=\"22.75,-57 22.75,-92.5\"/>\n",
       "<text text-anchor=\"middle\" x=\"64.88\" y=\"-69.7\" font-family=\"Times New Roman,serif\" font-size=\"14.00\">data &#45;3.0000</text>\n",
       "</g>\n",
       "<!-- 1794345561904* -->\n",
       "<g id=\"node8\" class=\"node\">\n",
       "<title>1794345561904*</title>\n",
       "<ellipse fill=\"none\" stroke=\"black\" cx=\"170\" cy=\"-46.5\" rx=\"27\" ry=\"18\"/>\n",
       "<text text-anchor=\"middle\" x=\"170\" y=\"-41.45\" font-family=\"Times New Roman,serif\" font-size=\"14.00\">*</text>\n",
       "</g>\n",
       "<!-- 1794345555664&#45;&gt;1794345561904* -->\n",
       "<g id=\"edge9\" class=\"edge\">\n",
       "<title>1794345555664&#45;&gt;1794345561904*</title>\n",
       "<path fill=\"none\" stroke=\"black\" d=\"M107.39,-61.57C116.15,-59.42 125.05,-57.25 133.26,-55.24\"/>\n",
       "<polygon fill=\"black\" stroke=\"black\" points=\"133.97,-58.67 142.85,-52.89 132.3,-51.87 133.97,-58.67\"/>\n",
       "</g>\n",
       "<!-- 1794345563344 -->\n",
       "<g id=\"node5\" class=\"node\">\n",
       "<title>1794345563344</title>\n",
       "<polygon fill=\"none\" stroke=\"black\" points=\"467.5,-0.5 467.5,-36.5 572.25,-36.5 572.25,-0.5 467.5,-0.5\"/>\n",
       "<text text-anchor=\"middle\" x=\"477.75\" y=\"-13.7\" font-family=\"Times New Roman,serif\" font-size=\"14.00\">f</text>\n",
       "<polyline fill=\"none\" stroke=\"black\" points=\"488,-1 488,-36.5\"/>\n",
       "<text text-anchor=\"middle\" x=\"530.12\" y=\"-13.7\" font-family=\"Times New Roman,serif\" font-size=\"14.00\">data &#45;2.0000</text>\n",
       "</g>\n",
       "<!-- 1794345563344&#45;&gt;1794307985232* -->\n",
       "<g id=\"edge7\" class=\"edge\">\n",
       "<title>1794345563344&#45;&gt;1794307985232*</title>\n",
       "<path fill=\"none\" stroke=\"black\" d=\"M572.59,-30.81C581.32,-32.89 590.21,-35.01 598.42,-36.97\"/>\n",
       "<polygon fill=\"black\" stroke=\"black\" points=\"597.48,-40.34 608.02,-39.25 599.1,-33.53 597.48,-40.34\"/>\n",
       "</g>\n",
       "<!-- 1794345561328 -->\n",
       "<g id=\"node6\" class=\"node\">\n",
       "<title>1794345561328</title>\n",
       "<polygon fill=\"none\" stroke=\"black\" points=\"2.62,-1.5 2.62,-37.5 104.38,-37.5 104.38,-1.5 2.62,-1.5\"/>\n",
       "<text text-anchor=\"middle\" x=\"13.62\" y=\"-14.7\" font-family=\"Times New Roman,serif\" font-size=\"14.00\">a</text>\n",
       "<polyline fill=\"none\" stroke=\"black\" points=\"24.62,-2 24.62,-37.5\"/>\n",
       "<text text-anchor=\"middle\" x=\"64.5\" y=\"-14.7\" font-family=\"Times New Roman,serif\" font-size=\"14.00\">data 2.0000</text>\n",
       "</g>\n",
       "<!-- 1794345561328&#45;&gt;1794345561904* -->\n",
       "<g id=\"edge4\" class=\"edge\">\n",
       "<title>1794345561328&#45;&gt;1794345561904*</title>\n",
       "<path fill=\"none\" stroke=\"black\" d=\"M104.72,-31.34C114.16,-33.57 123.86,-35.86 132.78,-37.96\"/>\n",
       "<polygon fill=\"black\" stroke=\"black\" points=\"131.94,-41.36 142.48,-40.25 133.55,-34.54 131.94,-41.36\"/>\n",
       "</g>\n",
       "<!-- 1794345561904 -->\n",
       "<g id=\"node7\" class=\"node\">\n",
       "<title>1794345561904</title>\n",
       "<polygon fill=\"none\" stroke=\"black\" points=\"234.12,-28.5 234.12,-64.5 340.38,-64.5 340.38,-28.5 234.12,-28.5\"/>\n",
       "<text text-anchor=\"middle\" x=\"245.12\" y=\"-41.7\" font-family=\"Times New Roman,serif\" font-size=\"14.00\">c</text>\n",
       "<polyline fill=\"none\" stroke=\"black\" points=\"256.12,-29 256.12,-64.5\"/>\n",
       "<text text-anchor=\"middle\" x=\"298.25\" y=\"-41.7\" font-family=\"Times New Roman,serif\" font-size=\"14.00\">data &#45;6.0000</text>\n",
       "</g>\n",
       "<!-- 1794345561904&#45;&gt;1794345564208+ -->\n",
       "<g id=\"edge8\" class=\"edge\">\n",
       "<title>1794345561904&#45;&gt;1794345564208+</title>\n",
       "<path fill=\"none\" stroke=\"black\" d=\"M340.82,-58.81C349.88,-60.94 359.11,-63.1 367.6,-65.09\"/>\n",
       "<polygon fill=\"black\" stroke=\"black\" points=\"366.63,-68.46 377.16,-67.33 368.22,-61.64 366.63,-68.46\"/>\n",
       "</g>\n",
       "<!-- 1794345561904*&#45;&gt;1794345561904 -->\n",
       "<g id=\"edge2\" class=\"edge\">\n",
       "<title>1794345561904*&#45;&gt;1794345561904</title>\n",
       "<path fill=\"none\" stroke=\"black\" d=\"M197.44,-46.5C205.1,-46.5 213.82,-46.5 222.73,-46.5\"/>\n",
       "<polygon fill=\"black\" stroke=\"black\" points=\"222.53,-50 232.53,-46.5 222.53,-43 222.53,-50\"/>\n",
       "</g>\n",
       "<!-- 1794307985232 -->\n",
       "<g id=\"node9\" class=\"node\">\n",
       "<title>1794307985232</title>\n",
       "<polygon fill=\"none\" stroke=\"black\" points=\"698.25,-27.5 698.25,-63.5 806.75,-63.5 806.75,-27.5 698.25,-27.5\"/>\n",
       "<text text-anchor=\"middle\" x=\"710.38\" y=\"-40.7\" font-family=\"Times New Roman,serif\" font-size=\"14.00\">L</text>\n",
       "<polyline fill=\"none\" stroke=\"black\" points=\"722.5,-28 722.5,-63.5\"/>\n",
       "<text text-anchor=\"middle\" x=\"764.62\" y=\"-40.7\" font-family=\"Times New Roman,serif\" font-size=\"14.00\">data &#45;8.0000</text>\n",
       "</g>\n",
       "<!-- 1794307985232*&#45;&gt;1794307985232 -->\n",
       "<g id=\"edge3\" class=\"edge\">\n",
       "<title>1794307985232*&#45;&gt;1794307985232</title>\n",
       "<path fill=\"none\" stroke=\"black\" d=\"M662.69,-45.5C669.91,-45.5 678.06,-45.5 686.43,-45.5\"/>\n",
       "<polygon fill=\"black\" stroke=\"black\" points=\"686.39,-49 696.39,-45.5 686.39,-42 686.39,-49\"/>\n",
       "</g>\n",
       "</g>\n",
       "</svg>\n"
      ],
      "text/plain": [
       "<graphviz.graphs.Digraph at 0x1a1c7547e90>"
      ]
     },
     "execution_count": 79,
     "metadata": {},
     "output_type": "execute_result"
    }
   ],
   "source": [
    "draw_dot(L)"
   ]
  },
  {
   "cell_type": "markdown",
   "id": "51fe6742-c7e9-40d7-9334-2dd08ad86f04",
   "metadata": {},
   "source": [
    "### Add grad to objects:\n",
    "- gradient of the output wrt that variable\n",
    "- initially set to 0, assumed that the variable does not affect the output in any way\n",
    "- a.grad = dL/da"
   ]
  },
  {
   "cell_type": "code",
   "execution_count": 85,
   "id": "6ab5f80e-33b2-42da-8e6b-cb832f3bba57",
   "metadata": {},
   "outputs": [],
   "source": [
    "class Value:\n",
    "    def __init__(self, data, label='', _prev=(), _op=''):\n",
    "        if not isinstance(data, (int, float)):\n",
    "            raise TypeError(f\"Value only accepts numeric types (int or float), got {type(data).__name__}\")\n",
    "        self.data = data * 1.0\n",
    "        self.grad = 0.0\n",
    "        self._prev = set(_prev)\n",
    "        self._op = _op\n",
    "        self.label = label\n",
    "\n",
    "    def __repr__(self):\n",
    "        return f\"Value(data={self.data})\"\n",
    "\n",
    "    def __add__(self, other):\n",
    "        other = other if isinstance(other, Value) else Value(other)\n",
    "        out = Value(self.data + other.data, _prev=(self, other), _op='+')\n",
    "        \n",
    "        return out\n",
    "\n",
    "    def __mul__(self, other):\n",
    "        other = other if isinstance(other, Value) else Value(other)\n",
    "        out = Value(self.data * other.data, _prev=(self, other), _op='*')\n",
    "        \n",
    "        return out"
   ]
  },
  {
   "cell_type": "code",
   "execution_count": 87,
   "id": "5d7b51bf-71df-42c6-b47c-9650ecebc122",
   "metadata": {},
   "outputs": [],
   "source": [
    "from graphviz import Digraph\n",
    "\n",
    "def trace(root):\n",
    "    nodes, edges = set(), set()\n",
    "    def build(v):\n",
    "        if v not in nodes:\n",
    "            nodes.add(v)\n",
    "            for child in v._prev:\n",
    "                edges.add((child, v))\n",
    "                build(child)\n",
    "    build(root)\n",
    "    return nodes, edges\n",
    "\n",
    "def draw_dot(root, format='svg', rankdir='LR'):\n",
    "    \"\"\"\n",
    "    format: png | svg | ...\n",
    "    rankdir: TB (top to bottom graph) | LR (left to right)\n",
    "    \"\"\"\n",
    "    assert rankdir in ['LR', 'TB']\n",
    "    nodes, edges = trace(root)\n",
    "    dot = Digraph(format=format, graph_attr={'rankdir': rankdir}) #, node_attr={'rankdir': 'TB'})\n",
    "    \n",
    "    for n in nodes:\n",
    "        dot.node(name=str(id(n)), label = \"{ %s | data %.4f | grad %.4f }\" % (n.label, n.data, n.grad), shape='record')\n",
    "        if n._op:\n",
    "            dot.node(name=str(id(n)) + n._op, label=n._op)\n",
    "            dot.edge(str(id(n)) + n._op, str(id(n)))\n",
    "    \n",
    "    for n1, n2 in edges:\n",
    "        dot.edge(str(id(n1)), str(id(n2)) + n2._op)\n",
    "    \n",
    "    return dot"
   ]
  },
  {
   "cell_type": "code",
   "execution_count": 97,
   "id": "fd9b9dc0-c156-4c54-839f-8312f7dd4f98",
   "metadata": {},
   "outputs": [],
   "source": [
    "a = Value(2, 'a')\n",
    "b = Value(-3, 'b')\n",
    "c = a*b; c.label='c'\n",
    "e = Value(10, 'e')\n",
    "d = c+e; d.label='d'\n",
    "f = Value(-2, 'f')\n",
    "L = d*f; L.label='L'"
   ]
  },
  {
   "cell_type": "code",
   "execution_count": 99,
   "id": "4e3477be-d526-4e68-9d89-69beaa224f2a",
   "metadata": {},
   "outputs": [
    {
     "data": {
      "image/svg+xml": [
       "<?xml version=\"1.0\" encoding=\"UTF-8\" standalone=\"no\"?>\n",
       "<!DOCTYPE svg PUBLIC \"-//W3C//DTD SVG 1.1//EN\"\n",
       " \"http://www.w3.org/Graphics/SVG/1.1/DTD/svg11.dtd\">\n",
       "<!-- Generated by graphviz version 12.2.1 (20241206.2353)\n",
       " -->\n",
       "<!-- Pages: 1 -->\n",
       "<svg width=\"1140pt\" height=\"154pt\"\n",
       " viewBox=\"0.00 0.00 1139.75 154.00\" xmlns=\"http://www.w3.org/2000/svg\" xmlns:xlink=\"http://www.w3.org/1999/xlink\">\n",
       "<g id=\"graph0\" class=\"graph\" transform=\"scale(1 1) rotate(0) translate(4 150)\">\n",
       "<polygon fill=\"white\" stroke=\"none\" points=\"-4,4 -4,-150 1135.75,-150 1135.75,4 -4,4\"/>\n",
       "<!-- 1794345619472 -->\n",
       "<g id=\"node1\" class=\"node\">\n",
       "<title>1794345619472</title>\n",
       "<polygon fill=\"none\" stroke=\"black\" points=\"942,-81.5 942,-117.5 1131.75,-117.5 1131.75,-81.5 942,-81.5\"/>\n",
       "<text text-anchor=\"middle\" x=\"954.12\" y=\"-94.7\" font-family=\"Times New Roman,serif\" font-size=\"14.00\">L</text>\n",
       "<polyline fill=\"none\" stroke=\"black\" points=\"966.25,-82 966.25,-117.5\"/>\n",
       "<text text-anchor=\"middle\" x=\"1008.38\" y=\"-94.7\" font-family=\"Times New Roman,serif\" font-size=\"14.00\">data &#45;8.0000</text>\n",
       "<polyline fill=\"none\" stroke=\"black\" points=\"1050.5,-82 1050.5,-117.5\"/>\n",
       "<text text-anchor=\"middle\" x=\"1091.12\" y=\"-94.7\" font-family=\"Times New Roman,serif\" font-size=\"14.00\">grad 0.0000</text>\n",
       "</g>\n",
       "<!-- 1794345619472* -->\n",
       "<g id=\"node2\" class=\"node\">\n",
       "<title>1794345619472*</title>\n",
       "<ellipse fill=\"none\" stroke=\"black\" cx=\"879\" cy=\"-99.5\" rx=\"27\" ry=\"18\"/>\n",
       "<text text-anchor=\"middle\" x=\"879\" y=\"-94.45\" font-family=\"Times New Roman,serif\" font-size=\"14.00\">*</text>\n",
       "</g>\n",
       "<!-- 1794345619472*&#45;&gt;1794345619472 -->\n",
       "<g id=\"edge1\" class=\"edge\">\n",
       "<title>1794345619472*&#45;&gt;1794345619472</title>\n",
       "<path fill=\"none\" stroke=\"black\" d=\"M906.44,-99.5C913.59,-99.5 921.78,-99.5 930.49,-99.5\"/>\n",
       "<polygon fill=\"black\" stroke=\"black\" points=\"930.26,-103 940.26,-99.5 930.26,-96 930.26,-103\"/>\n",
       "</g>\n",
       "<!-- 1794345623408 -->\n",
       "<g id=\"node3\" class=\"node\">\n",
       "<title>1794345623408</title>\n",
       "<polygon fill=\"none\" stroke=\"black\" points=\"630,-109.5 630,-145.5 816,-145.5 816,-109.5 630,-109.5\"/>\n",
       "<text text-anchor=\"middle\" x=\"640.25\" y=\"-122.7\" font-family=\"Times New Roman,serif\" font-size=\"14.00\">f</text>\n",
       "<polyline fill=\"none\" stroke=\"black\" points=\"650.5,-110 650.5,-145.5\"/>\n",
       "<text text-anchor=\"middle\" x=\"692.62\" y=\"-122.7\" font-family=\"Times New Roman,serif\" font-size=\"14.00\">data &#45;2.0000</text>\n",
       "<polyline fill=\"none\" stroke=\"black\" points=\"734.75,-110 734.75,-145.5\"/>\n",
       "<text text-anchor=\"middle\" x=\"775.38\" y=\"-122.7\" font-family=\"Times New Roman,serif\" font-size=\"14.00\">grad 0.0000</text>\n",
       "</g>\n",
       "<!-- 1794345623408&#45;&gt;1794345619472* -->\n",
       "<g id=\"edge5\" class=\"edge\">\n",
       "<title>1794345623408&#45;&gt;1794345619472*</title>\n",
       "<path fill=\"none\" stroke=\"black\" d=\"M816.25,-110.73C825.1,-109.12 833.67,-107.56 841.46,-106.14\"/>\n",
       "<polygon fill=\"black\" stroke=\"black\" points=\"841.93,-109.62 851.15,-104.38 840.68,-102.73 841.93,-109.62\"/>\n",
       "</g>\n",
       "<!-- 1794345618560 -->\n",
       "<g id=\"node4\" class=\"node\">\n",
       "<title>1794345618560</title>\n",
       "<polygon fill=\"none\" stroke=\"black\" points=\"631.12,-54.5 631.12,-90.5 814.88,-90.5 814.88,-54.5 631.12,-54.5\"/>\n",
       "<text text-anchor=\"middle\" x=\"642.5\" y=\"-67.7\" font-family=\"Times New Roman,serif\" font-size=\"14.00\">d</text>\n",
       "<polyline fill=\"none\" stroke=\"black\" points=\"653.88,-55 653.88,-90.5\"/>\n",
       "<text text-anchor=\"middle\" x=\"693.75\" y=\"-67.7\" font-family=\"Times New Roman,serif\" font-size=\"14.00\">data 4.0000</text>\n",
       "<polyline fill=\"none\" stroke=\"black\" points=\"733.62,-55 733.62,-90.5\"/>\n",
       "<text text-anchor=\"middle\" x=\"774.25\" y=\"-67.7\" font-family=\"Times New Roman,serif\" font-size=\"14.00\">grad 0.0000</text>\n",
       "</g>\n",
       "<!-- 1794345618560&#45;&gt;1794345619472* -->\n",
       "<g id=\"edge4\" class=\"edge\">\n",
       "<title>1794345618560&#45;&gt;1794345619472*</title>\n",
       "<path fill=\"none\" stroke=\"black\" d=\"M815.36,-88.52C824.5,-90.12 833.36,-91.67 841.4,-93.08\"/>\n",
       "<polygon fill=\"black\" stroke=\"black\" points=\"840.58,-96.49 851.04,-94.77 841.79,-89.6 840.58,-96.49\"/>\n",
       "</g>\n",
       "<!-- 1794345618560+ -->\n",
       "<g id=\"node5\" class=\"node\">\n",
       "<title>1794345618560+</title>\n",
       "<ellipse fill=\"none\" stroke=\"black\" cx=\"567\" cy=\"-72.5\" rx=\"27\" ry=\"18\"/>\n",
       "<text text-anchor=\"middle\" x=\"567\" y=\"-67.45\" font-family=\"Times New Roman,serif\" font-size=\"14.00\">+</text>\n",
       "</g>\n",
       "<!-- 1794345618560+&#45;&gt;1794345618560 -->\n",
       "<g id=\"edge2\" class=\"edge\">\n",
       "<title>1794345618560+&#45;&gt;1794345618560</title>\n",
       "<path fill=\"none\" stroke=\"black\" d=\"M594.47,-72.5C601.87,-72.5 610.38,-72.5 619.43,-72.5\"/>\n",
       "<polygon fill=\"black\" stroke=\"black\" points=\"619.17,-76 629.17,-72.5 619.17,-69 619.17,-76\"/>\n",
       "</g>\n",
       "<!-- 1794345626768 -->\n",
       "<g id=\"node6\" class=\"node\">\n",
       "<title>1794345626768</title>\n",
       "<polygon fill=\"none\" stroke=\"black\" points=\"0,-55.5 0,-91.5 188.25,-91.5 188.25,-55.5 0,-55.5\"/>\n",
       "<text text-anchor=\"middle\" x=\"11.38\" y=\"-68.7\" font-family=\"Times New Roman,serif\" font-size=\"14.00\">b</text>\n",
       "<polyline fill=\"none\" stroke=\"black\" points=\"22.75,-56 22.75,-91.5\"/>\n",
       "<text text-anchor=\"middle\" x=\"64.88\" y=\"-68.7\" font-family=\"Times New Roman,serif\" font-size=\"14.00\">data &#45;3.0000</text>\n",
       "<polyline fill=\"none\" stroke=\"black\" points=\"107,-56 107,-91.5\"/>\n",
       "<text text-anchor=\"middle\" x=\"147.62\" y=\"-68.7\" font-family=\"Times New Roman,serif\" font-size=\"14.00\">grad 0.0000</text>\n",
       "</g>\n",
       "<!-- 1794345617264* -->\n",
       "<g id=\"node10\" class=\"node\">\n",
       "<title>1794345617264*</title>\n",
       "<ellipse fill=\"none\" stroke=\"black\" cx=\"251.25\" cy=\"-45.5\" rx=\"27\" ry=\"18\"/>\n",
       "<text text-anchor=\"middle\" x=\"251.25\" y=\"-40.45\" font-family=\"Times New Roman,serif\" font-size=\"14.00\">*</text>\n",
       "</g>\n",
       "<!-- 1794345626768&#45;&gt;1794345617264* -->\n",
       "<g id=\"edge7\" class=\"edge\">\n",
       "<title>1794345626768&#45;&gt;1794345617264*</title>\n",
       "<path fill=\"none\" stroke=\"black\" d=\"M188.49,-56.65C197.36,-55.05 205.93,-53.5 213.73,-52.09\"/>\n",
       "<polygon fill=\"black\" stroke=\"black\" points=\"214.2,-55.56 223.42,-50.34 212.95,-48.68 214.2,-55.56\"/>\n",
       "</g>\n",
       "<!-- 1794345616064 -->\n",
       "<g id=\"node7\" class=\"node\">\n",
       "<title>1794345616064</title>\n",
       "<polygon fill=\"none\" stroke=\"black\" points=\"2.62,-0.5 2.62,-36.5 185.62,-36.5 185.62,-0.5 2.62,-0.5\"/>\n",
       "<text text-anchor=\"middle\" x=\"13.62\" y=\"-13.7\" font-family=\"Times New Roman,serif\" font-size=\"14.00\">a</text>\n",
       "<polyline fill=\"none\" stroke=\"black\" points=\"24.62,-1 24.62,-36.5\"/>\n",
       "<text text-anchor=\"middle\" x=\"64.5\" y=\"-13.7\" font-family=\"Times New Roman,serif\" font-size=\"14.00\">data 2.0000</text>\n",
       "<polyline fill=\"none\" stroke=\"black\" points=\"104.38,-1 104.38,-36.5\"/>\n",
       "<text text-anchor=\"middle\" x=\"145\" y=\"-13.7\" font-family=\"Times New Roman,serif\" font-size=\"14.00\">grad 0.0000</text>\n",
       "</g>\n",
       "<!-- 1794345616064&#45;&gt;1794345617264* -->\n",
       "<g id=\"edge6\" class=\"edge\">\n",
       "<title>1794345616064&#45;&gt;1794345617264*</title>\n",
       "<path fill=\"none\" stroke=\"black\" d=\"M185.81,-34.28C195.45,-35.96 204.82,-37.59 213.29,-39.07\"/>\n",
       "<polygon fill=\"black\" stroke=\"black\" points=\"212.65,-42.51 223.1,-40.77 213.85,-35.61 212.65,-42.51\"/>\n",
       "</g>\n",
       "<!-- 1794345624272 -->\n",
       "<g id=\"node8\" class=\"node\">\n",
       "<title>1794345624272</title>\n",
       "<polygon fill=\"none\" stroke=\"black\" points=\"314.25,-82.5 314.25,-118.5 504,-118.5 504,-82.5 314.25,-82.5\"/>\n",
       "<text text-anchor=\"middle\" x=\"325.25\" y=\"-95.7\" font-family=\"Times New Roman,serif\" font-size=\"14.00\">e</text>\n",
       "<polyline fill=\"none\" stroke=\"black\" points=\"336.25,-83 336.25,-118.5\"/>\n",
       "<text text-anchor=\"middle\" x=\"379.5\" y=\"-95.7\" font-family=\"Times New Roman,serif\" font-size=\"14.00\">data 10.0000</text>\n",
       "<polyline fill=\"none\" stroke=\"black\" points=\"422.75,-83 422.75,-118.5\"/>\n",
       "<text text-anchor=\"middle\" x=\"463.38\" y=\"-95.7\" font-family=\"Times New Roman,serif\" font-size=\"14.00\">grad 0.0000</text>\n",
       "</g>\n",
       "<!-- 1794345624272&#45;&gt;1794345618560+ -->\n",
       "<g id=\"edge9\" class=\"edge\">\n",
       "<title>1794345624272&#45;&gt;1794345618560+</title>\n",
       "<path fill=\"none\" stroke=\"black\" d=\"M504.39,-83.57C513.16,-81.99 521.65,-80.47 529.37,-79.08\"/>\n",
       "<polygon fill=\"black\" stroke=\"black\" points=\"529.73,-82.57 538.95,-77.36 528.49,-75.68 529.73,-82.57\"/>\n",
       "</g>\n",
       "<!-- 1794345617264 -->\n",
       "<g id=\"node9\" class=\"node\">\n",
       "<title>1794345617264</title>\n",
       "<polygon fill=\"none\" stroke=\"black\" points=\"315.38,-27.5 315.38,-63.5 502.88,-63.5 502.88,-27.5 315.38,-27.5\"/>\n",
       "<text text-anchor=\"middle\" x=\"326.38\" y=\"-40.7\" font-family=\"Times New Roman,serif\" font-size=\"14.00\">c</text>\n",
       "<polyline fill=\"none\" stroke=\"black\" points=\"337.38,-28 337.38,-63.5\"/>\n",
       "<text text-anchor=\"middle\" x=\"379.5\" y=\"-40.7\" font-family=\"Times New Roman,serif\" font-size=\"14.00\">data &#45;6.0000</text>\n",
       "<polyline fill=\"none\" stroke=\"black\" points=\"421.62,-28 421.62,-63.5\"/>\n",
       "<text text-anchor=\"middle\" x=\"462.25\" y=\"-40.7\" font-family=\"Times New Roman,serif\" font-size=\"14.00\">grad 0.0000</text>\n",
       "</g>\n",
       "<!-- 1794345617264&#45;&gt;1794345618560+ -->\n",
       "<g id=\"edge8\" class=\"edge\">\n",
       "<title>1794345617264&#45;&gt;1794345618560+</title>\n",
       "<path fill=\"none\" stroke=\"black\" d=\"M503.05,-61.6C512.25,-63.19 521.16,-64.73 529.24,-66.13\"/>\n",
       "<polygon fill=\"black\" stroke=\"black\" points=\"528.48,-69.55 538.93,-67.81 529.68,-62.66 528.48,-69.55\"/>\n",
       "</g>\n",
       "<!-- 1794345617264*&#45;&gt;1794345617264 -->\n",
       "<g id=\"edge3\" class=\"edge\">\n",
       "<title>1794345617264*&#45;&gt;1794345617264</title>\n",
       "<path fill=\"none\" stroke=\"black\" d=\"M278.69,-45.5C286.1,-45.5 294.64,-45.5 303.71,-45.5\"/>\n",
       "<polygon fill=\"black\" stroke=\"black\" points=\"303.51,-49 313.51,-45.5 303.51,-42 303.51,-49\"/>\n",
       "</g>\n",
       "</g>\n",
       "</svg>\n"
      ],
      "text/plain": [
       "<graphviz.graphs.Digraph at 0x1a1c7555be0>"
      ]
     },
     "execution_count": 99,
     "metadata": {},
     "output_type": "execute_result"
    }
   ],
   "source": [
    "draw_dot(L)"
   ]
  },
  {
   "cell_type": "markdown",
   "id": "8fcc9711-df29-463d-9e9c-d4af6cbee8e5",
   "metadata": {},
   "source": [
    "### Manually solving for gradients"
   ]
  },
  {
   "cell_type": "markdown",
   "id": "689e8a7c-2bac-4cba-9e26-57a921bae9e7",
   "metadata": {},
   "source": [
    "- dL/dL = 1\n",
    "\n",
    "- dL/dd = d(d*f)/dd = f * dd/dd = f = -2\n",
    "- Similarly dL/df = d = 4\n",
    "\n",
    "- dL/dc = d(d*f)/dc = d((c+e)*f)/dc = f * d(c+e)/dc = f = -2\n",
    "  - Or: using chain rule = dL/dc = dL/dd * dd/dc = -2 * d(c+e)/dc = -2*1 = -2\n",
    "  - Similary: dL/de = -2"
   ]
  },
  {
   "cell_type": "code",
   "execution_count": 106,
   "id": "d1b7a856-d2e2-49db-8b8e-d2e95bf949c8",
   "metadata": {},
   "outputs": [],
   "source": [
    "L.grad = 1\n",
    "d.grad = -2\n",
    "f.grad = 4\n",
    "c.grad = e.grad = -2"
   ]
  },
  {
   "cell_type": "code",
   "execution_count": 108,
   "id": "4c3eb5b6-da1e-4b33-8d23-893647558acb",
   "metadata": {},
   "outputs": [
    {
     "data": {
      "image/svg+xml": [
       "<?xml version=\"1.0\" encoding=\"UTF-8\" standalone=\"no\"?>\n",
       "<!DOCTYPE svg PUBLIC \"-//W3C//DTD SVG 1.1//EN\"\n",
       " \"http://www.w3.org/Graphics/SVG/1.1/DTD/svg11.dtd\">\n",
       "<!-- Generated by graphviz version 12.2.1 (20241206.2353)\n",
       " -->\n",
       "<!-- Pages: 1 -->\n",
       "<svg width=\"1147pt\" height=\"154pt\"\n",
       " viewBox=\"0.00 0.00 1146.50 154.00\" xmlns=\"http://www.w3.org/2000/svg\" xmlns:xlink=\"http://www.w3.org/1999/xlink\">\n",
       "<g id=\"graph0\" class=\"graph\" transform=\"scale(1 1) rotate(0) translate(4 150)\">\n",
       "<polygon fill=\"white\" stroke=\"none\" points=\"-4,4 -4,-150 1142.5,-150 1142.5,4 -4,4\"/>\n",
       "<!-- 1794345619472 -->\n",
       "<g id=\"node1\" class=\"node\">\n",
       "<title>1794345619472</title>\n",
       "<polygon fill=\"none\" stroke=\"black\" points=\"948.75,-81.5 948.75,-117.5 1138.5,-117.5 1138.5,-81.5 948.75,-81.5\"/>\n",
       "<text text-anchor=\"middle\" x=\"960.88\" y=\"-94.7\" font-family=\"Times New Roman,serif\" font-size=\"14.00\">L</text>\n",
       "<polyline fill=\"none\" stroke=\"black\" points=\"973,-82 973,-117.5\"/>\n",
       "<text text-anchor=\"middle\" x=\"1015.12\" y=\"-94.7\" font-family=\"Times New Roman,serif\" font-size=\"14.00\">data &#45;8.0000</text>\n",
       "<polyline fill=\"none\" stroke=\"black\" points=\"1057.25,-82 1057.25,-117.5\"/>\n",
       "<text text-anchor=\"middle\" x=\"1097.88\" y=\"-94.7\" font-family=\"Times New Roman,serif\" font-size=\"14.00\">grad 1.0000</text>\n",
       "</g>\n",
       "<!-- 1794345619472* -->\n",
       "<g id=\"node2\" class=\"node\">\n",
       "<title>1794345619472*</title>\n",
       "<ellipse fill=\"none\" stroke=\"black\" cx=\"885.75\" cy=\"-99.5\" rx=\"27\" ry=\"18\"/>\n",
       "<text text-anchor=\"middle\" x=\"885.75\" y=\"-94.45\" font-family=\"Times New Roman,serif\" font-size=\"14.00\">*</text>\n",
       "</g>\n",
       "<!-- 1794345619472*&#45;&gt;1794345619472 -->\n",
       "<g id=\"edge1\" class=\"edge\">\n",
       "<title>1794345619472*&#45;&gt;1794345619472</title>\n",
       "<path fill=\"none\" stroke=\"black\" d=\"M913.19,-99.5C920.34,-99.5 928.53,-99.5 937.24,-99.5\"/>\n",
       "<polygon fill=\"black\" stroke=\"black\" points=\"937.01,-103 947.01,-99.5 937.01,-96 937.01,-103\"/>\n",
       "</g>\n",
       "<!-- 1794345623408 -->\n",
       "<g id=\"node3\" class=\"node\">\n",
       "<title>1794345623408</title>\n",
       "<polygon fill=\"none\" stroke=\"black\" points=\"635.62,-109.5 635.62,-145.5 821.62,-145.5 821.62,-109.5 635.62,-109.5\"/>\n",
       "<text text-anchor=\"middle\" x=\"645.88\" y=\"-122.7\" font-family=\"Times New Roman,serif\" font-size=\"14.00\">f</text>\n",
       "<polyline fill=\"none\" stroke=\"black\" points=\"656.12,-110 656.12,-145.5\"/>\n",
       "<text text-anchor=\"middle\" x=\"698.25\" y=\"-122.7\" font-family=\"Times New Roman,serif\" font-size=\"14.00\">data &#45;2.0000</text>\n",
       "<polyline fill=\"none\" stroke=\"black\" points=\"740.38,-110 740.38,-145.5\"/>\n",
       "<text text-anchor=\"middle\" x=\"781\" y=\"-122.7\" font-family=\"Times New Roman,serif\" font-size=\"14.00\">grad 4.0000</text>\n",
       "</g>\n",
       "<!-- 1794345623408&#45;&gt;1794345619472* -->\n",
       "<g id=\"edge5\" class=\"edge\">\n",
       "<title>1794345623408&#45;&gt;1794345619472*</title>\n",
       "<path fill=\"none\" stroke=\"black\" d=\"M822.1,-110.81C831.26,-109.16 840.12,-107.56 848.17,-106.1\"/>\n",
       "<polygon fill=\"black\" stroke=\"black\" points=\"848.59,-109.58 857.81,-104.36 847.34,-102.7 848.59,-109.58\"/>\n",
       "</g>\n",
       "<!-- 1794345618560 -->\n",
       "<g id=\"node4\" class=\"node\">\n",
       "<title>1794345618560</title>\n",
       "<polygon fill=\"none\" stroke=\"black\" points=\"634.5,-54.5 634.5,-90.5 822.75,-90.5 822.75,-54.5 634.5,-54.5\"/>\n",
       "<text text-anchor=\"middle\" x=\"645.88\" y=\"-67.7\" font-family=\"Times New Roman,serif\" font-size=\"14.00\">d</text>\n",
       "<polyline fill=\"none\" stroke=\"black\" points=\"657.25,-55 657.25,-90.5\"/>\n",
       "<text text-anchor=\"middle\" x=\"697.12\" y=\"-67.7\" font-family=\"Times New Roman,serif\" font-size=\"14.00\">data 4.0000</text>\n",
       "<polyline fill=\"none\" stroke=\"black\" points=\"737,-55 737,-90.5\"/>\n",
       "<text text-anchor=\"middle\" x=\"779.88\" y=\"-67.7\" font-family=\"Times New Roman,serif\" font-size=\"14.00\">grad &#45;2.0000</text>\n",
       "</g>\n",
       "<!-- 1794345618560&#45;&gt;1794345619472* -->\n",
       "<g id=\"edge4\" class=\"edge\">\n",
       "<title>1794345618560&#45;&gt;1794345619472*</title>\n",
       "<path fill=\"none\" stroke=\"black\" d=\"M822.99,-88.75C831.77,-90.28 840.27,-91.76 848.01,-93.1\"/>\n",
       "<polygon fill=\"black\" stroke=\"black\" points=\"847.16,-96.51 857.61,-94.78 848.36,-89.61 847.16,-96.51\"/>\n",
       "</g>\n",
       "<!-- 1794345618560+ -->\n",
       "<g id=\"node5\" class=\"node\">\n",
       "<title>1794345618560+</title>\n",
       "<ellipse fill=\"none\" stroke=\"black\" cx=\"571.5\" cy=\"-72.5\" rx=\"27\" ry=\"18\"/>\n",
       "<text text-anchor=\"middle\" x=\"571.5\" y=\"-67.45\" font-family=\"Times New Roman,serif\" font-size=\"14.00\">+</text>\n",
       "</g>\n",
       "<!-- 1794345618560+&#45;&gt;1794345618560 -->\n",
       "<g id=\"edge2\" class=\"edge\">\n",
       "<title>1794345618560+&#45;&gt;1794345618560</title>\n",
       "<path fill=\"none\" stroke=\"black\" d=\"M598.81,-72.5C605.99,-72.5 614.22,-72.5 622.97,-72.5\"/>\n",
       "<polygon fill=\"black\" stroke=\"black\" points=\"622.79,-76 632.79,-72.5 622.79,-69 622.79,-76\"/>\n",
       "</g>\n",
       "<!-- 1794345626768 -->\n",
       "<g id=\"node6\" class=\"node\">\n",
       "<title>1794345626768</title>\n",
       "<polygon fill=\"none\" stroke=\"black\" points=\"0,-55.5 0,-91.5 188.25,-91.5 188.25,-55.5 0,-55.5\"/>\n",
       "<text text-anchor=\"middle\" x=\"11.38\" y=\"-68.7\" font-family=\"Times New Roman,serif\" font-size=\"14.00\">b</text>\n",
       "<polyline fill=\"none\" stroke=\"black\" points=\"22.75,-56 22.75,-91.5\"/>\n",
       "<text text-anchor=\"middle\" x=\"64.88\" y=\"-68.7\" font-family=\"Times New Roman,serif\" font-size=\"14.00\">data &#45;3.0000</text>\n",
       "<polyline fill=\"none\" stroke=\"black\" points=\"107,-56 107,-91.5\"/>\n",
       "<text text-anchor=\"middle\" x=\"147.62\" y=\"-68.7\" font-family=\"Times New Roman,serif\" font-size=\"14.00\">grad 0.0000</text>\n",
       "</g>\n",
       "<!-- 1794345617264* -->\n",
       "<g id=\"node10\" class=\"node\">\n",
       "<title>1794345617264*</title>\n",
       "<ellipse fill=\"none\" stroke=\"black\" cx=\"251.25\" cy=\"-45.5\" rx=\"27\" ry=\"18\"/>\n",
       "<text text-anchor=\"middle\" x=\"251.25\" y=\"-40.45\" font-family=\"Times New Roman,serif\" font-size=\"14.00\">*</text>\n",
       "</g>\n",
       "<!-- 1794345626768&#45;&gt;1794345617264* -->\n",
       "<g id=\"edge7\" class=\"edge\">\n",
       "<title>1794345626768&#45;&gt;1794345617264*</title>\n",
       "<path fill=\"none\" stroke=\"black\" d=\"M188.49,-56.65C197.36,-55.05 205.93,-53.5 213.73,-52.09\"/>\n",
       "<polygon fill=\"black\" stroke=\"black\" points=\"214.2,-55.56 223.42,-50.34 212.95,-48.68 214.2,-55.56\"/>\n",
       "</g>\n",
       "<!-- 1794345616064 -->\n",
       "<g id=\"node7\" class=\"node\">\n",
       "<title>1794345616064</title>\n",
       "<polygon fill=\"none\" stroke=\"black\" points=\"2.62,-0.5 2.62,-36.5 185.62,-36.5 185.62,-0.5 2.62,-0.5\"/>\n",
       "<text text-anchor=\"middle\" x=\"13.62\" y=\"-13.7\" font-family=\"Times New Roman,serif\" font-size=\"14.00\">a</text>\n",
       "<polyline fill=\"none\" stroke=\"black\" points=\"24.62,-1 24.62,-36.5\"/>\n",
       "<text text-anchor=\"middle\" x=\"64.5\" y=\"-13.7\" font-family=\"Times New Roman,serif\" font-size=\"14.00\">data 2.0000</text>\n",
       "<polyline fill=\"none\" stroke=\"black\" points=\"104.38,-1 104.38,-36.5\"/>\n",
       "<text text-anchor=\"middle\" x=\"145\" y=\"-13.7\" font-family=\"Times New Roman,serif\" font-size=\"14.00\">grad 0.0000</text>\n",
       "</g>\n",
       "<!-- 1794345616064&#45;&gt;1794345617264* -->\n",
       "<g id=\"edge6\" class=\"edge\">\n",
       "<title>1794345616064&#45;&gt;1794345617264*</title>\n",
       "<path fill=\"none\" stroke=\"black\" d=\"M185.81,-34.28C195.45,-35.96 204.82,-37.59 213.29,-39.07\"/>\n",
       "<polygon fill=\"black\" stroke=\"black\" points=\"212.65,-42.51 223.1,-40.77 213.85,-35.61 212.65,-42.51\"/>\n",
       "</g>\n",
       "<!-- 1794345624272 -->\n",
       "<g id=\"node8\" class=\"node\">\n",
       "<title>1794345624272</title>\n",
       "<polygon fill=\"none\" stroke=\"black\" points=\"314.25,-82.5 314.25,-118.5 508.5,-118.5 508.5,-82.5 314.25,-82.5\"/>\n",
       "<text text-anchor=\"middle\" x=\"325.25\" y=\"-95.7\" font-family=\"Times New Roman,serif\" font-size=\"14.00\">e</text>\n",
       "<polyline fill=\"none\" stroke=\"black\" points=\"336.25,-83 336.25,-118.5\"/>\n",
       "<text text-anchor=\"middle\" x=\"379.5\" y=\"-95.7\" font-family=\"Times New Roman,serif\" font-size=\"14.00\">data 10.0000</text>\n",
       "<polyline fill=\"none\" stroke=\"black\" points=\"422.75,-83 422.75,-118.5\"/>\n",
       "<text text-anchor=\"middle\" x=\"465.62\" y=\"-95.7\" font-family=\"Times New Roman,serif\" font-size=\"14.00\">grad &#45;2.0000</text>\n",
       "</g>\n",
       "<!-- 1794345624272&#45;&gt;1794345618560+ -->\n",
       "<g id=\"edge9\" class=\"edge\">\n",
       "<title>1794345624272&#45;&gt;1794345618560+</title>\n",
       "<path fill=\"none\" stroke=\"black\" d=\"M508.91,-83.41C517.71,-81.85 526.2,-80.34 533.92,-78.98\"/>\n",
       "<polygon fill=\"black\" stroke=\"black\" points=\"534.27,-82.47 543.5,-77.28 533.05,-75.58 534.27,-82.47\"/>\n",
       "</g>\n",
       "<!-- 1794345617264 -->\n",
       "<g id=\"node9\" class=\"node\">\n",
       "<title>1794345617264</title>\n",
       "<polygon fill=\"none\" stroke=\"black\" points=\"315.38,-27.5 315.38,-63.5 507.38,-63.5 507.38,-27.5 315.38,-27.5\"/>\n",
       "<text text-anchor=\"middle\" x=\"326.38\" y=\"-40.7\" font-family=\"Times New Roman,serif\" font-size=\"14.00\">c</text>\n",
       "<polyline fill=\"none\" stroke=\"black\" points=\"337.38,-28 337.38,-63.5\"/>\n",
       "<text text-anchor=\"middle\" x=\"379.5\" y=\"-40.7\" font-family=\"Times New Roman,serif\" font-size=\"14.00\">data &#45;6.0000</text>\n",
       "<polyline fill=\"none\" stroke=\"black\" points=\"421.62,-28 421.62,-63.5\"/>\n",
       "<text text-anchor=\"middle\" x=\"464.5\" y=\"-40.7\" font-family=\"Times New Roman,serif\" font-size=\"14.00\">grad &#45;2.0000</text>\n",
       "</g>\n",
       "<!-- 1794345617264&#45;&gt;1794345618560+ -->\n",
       "<g id=\"edge8\" class=\"edge\">\n",
       "<title>1794345617264&#45;&gt;1794345618560+</title>\n",
       "<path fill=\"none\" stroke=\"black\" d=\"M507.55,-61.75C516.78,-63.33 525.7,-64.85 533.79,-66.23\"/>\n",
       "<polygon fill=\"black\" stroke=\"black\" points=\"533.03,-69.65 543.48,-67.89 534.21,-62.75 533.03,-69.65\"/>\n",
       "</g>\n",
       "<!-- 1794345617264*&#45;&gt;1794345617264 -->\n",
       "<g id=\"edge3\" class=\"edge\">\n",
       "<title>1794345617264*&#45;&gt;1794345617264</title>\n",
       "<path fill=\"none\" stroke=\"black\" d=\"M278.72,-45.5C286.09,-45.5 294.59,-45.5 303.63,-45.5\"/>\n",
       "<polygon fill=\"black\" stroke=\"black\" points=\"303.39,-49 313.39,-45.5 303.39,-42 303.39,-49\"/>\n",
       "</g>\n",
       "</g>\n",
       "</svg>\n"
      ],
      "text/plain": [
       "<graphviz.graphs.Digraph at 0x1a1c7555df0>"
      ]
     },
     "execution_count": 108,
     "metadata": {},
     "output_type": "execute_result"
    }
   ],
   "source": [
    "draw_dot(L)"
   ]
  },
  {
   "cell_type": "markdown",
   "id": "9a8f8c35-81c6-46e3-97b1-5a08e8a8815f",
   "metadata": {},
   "source": [
    "dL/da \n",
    "= dL/dd * dd/dc * dc/da\n",
    "= -2 * 1 * d(a*b)/da\n",
    "= -2 * b * da/da = -2 * b = -2 * -3 = 6\n",
    "\n",
    "dL/db = dL/dc * dc/db = -2 * a = -2 * 2 = -4"
   ]
  },
  {
   "cell_type": "code",
   "execution_count": 116,
   "id": "38908dc8-632d-4908-a3fc-72b6653d118a",
   "metadata": {},
   "outputs": [],
   "source": [
    "a.grad = 6\n",
    "b.grad = -4"
   ]
  },
  {
   "cell_type": "code",
   "execution_count": 118,
   "id": "d57da3bf-b194-4ec0-be12-111ff9e74155",
   "metadata": {},
   "outputs": [
    {
     "data": {
      "image/svg+xml": [
       "<?xml version=\"1.0\" encoding=\"UTF-8\" standalone=\"no\"?>\n",
       "<!DOCTYPE svg PUBLIC \"-//W3C//DTD SVG 1.1//EN\"\n",
       " \"http://www.w3.org/Graphics/SVG/1.1/DTD/svg11.dtd\">\n",
       "<!-- Generated by graphviz version 12.2.1 (20241206.2353)\n",
       " -->\n",
       "<!-- Pages: 1 -->\n",
       "<svg width=\"1151pt\" height=\"154pt\"\n",
       " viewBox=\"0.00 0.00 1151.00 154.00\" xmlns=\"http://www.w3.org/2000/svg\" xmlns:xlink=\"http://www.w3.org/1999/xlink\">\n",
       "<g id=\"graph0\" class=\"graph\" transform=\"scale(1 1) rotate(0) translate(4 150)\">\n",
       "<polygon fill=\"white\" stroke=\"none\" points=\"-4,4 -4,-150 1147,-150 1147,4 -4,4\"/>\n",
       "<!-- 1794345619472 -->\n",
       "<g id=\"node1\" class=\"node\">\n",
       "<title>1794345619472</title>\n",
       "<polygon fill=\"none\" stroke=\"black\" points=\"953.25,-81.5 953.25,-117.5 1143,-117.5 1143,-81.5 953.25,-81.5\"/>\n",
       "<text text-anchor=\"middle\" x=\"965.38\" y=\"-94.7\" font-family=\"Times New Roman,serif\" font-size=\"14.00\">L</text>\n",
       "<polyline fill=\"none\" stroke=\"black\" points=\"977.5,-82 977.5,-117.5\"/>\n",
       "<text text-anchor=\"middle\" x=\"1019.62\" y=\"-94.7\" font-family=\"Times New Roman,serif\" font-size=\"14.00\">data &#45;8.0000</text>\n",
       "<polyline fill=\"none\" stroke=\"black\" points=\"1061.75,-82 1061.75,-117.5\"/>\n",
       "<text text-anchor=\"middle\" x=\"1102.38\" y=\"-94.7\" font-family=\"Times New Roman,serif\" font-size=\"14.00\">grad 1.0000</text>\n",
       "</g>\n",
       "<!-- 1794345619472* -->\n",
       "<g id=\"node2\" class=\"node\">\n",
       "<title>1794345619472*</title>\n",
       "<ellipse fill=\"none\" stroke=\"black\" cx=\"890.25\" cy=\"-99.5\" rx=\"27\" ry=\"18\"/>\n",
       "<text text-anchor=\"middle\" x=\"890.25\" y=\"-94.45\" font-family=\"Times New Roman,serif\" font-size=\"14.00\">*</text>\n",
       "</g>\n",
       "<!-- 1794345619472*&#45;&gt;1794345619472 -->\n",
       "<g id=\"edge1\" class=\"edge\">\n",
       "<title>1794345619472*&#45;&gt;1794345619472</title>\n",
       "<path fill=\"none\" stroke=\"black\" d=\"M917.69,-99.5C924.84,-99.5 933.03,-99.5 941.74,-99.5\"/>\n",
       "<polygon fill=\"black\" stroke=\"black\" points=\"941.51,-103 951.51,-99.5 941.51,-96 941.51,-103\"/>\n",
       "</g>\n",
       "<!-- 1794345623408 -->\n",
       "<g id=\"node3\" class=\"node\">\n",
       "<title>1794345623408</title>\n",
       "<polygon fill=\"none\" stroke=\"black\" points=\"640.12,-109.5 640.12,-145.5 826.12,-145.5 826.12,-109.5 640.12,-109.5\"/>\n",
       "<text text-anchor=\"middle\" x=\"650.38\" y=\"-122.7\" font-family=\"Times New Roman,serif\" font-size=\"14.00\">f</text>\n",
       "<polyline fill=\"none\" stroke=\"black\" points=\"660.62,-110 660.62,-145.5\"/>\n",
       "<text text-anchor=\"middle\" x=\"702.75\" y=\"-122.7\" font-family=\"Times New Roman,serif\" font-size=\"14.00\">data &#45;2.0000</text>\n",
       "<polyline fill=\"none\" stroke=\"black\" points=\"744.88,-110 744.88,-145.5\"/>\n",
       "<text text-anchor=\"middle\" x=\"785.5\" y=\"-122.7\" font-family=\"Times New Roman,serif\" font-size=\"14.00\">grad 4.0000</text>\n",
       "</g>\n",
       "<!-- 1794345623408&#45;&gt;1794345619472* -->\n",
       "<g id=\"edge5\" class=\"edge\">\n",
       "<title>1794345623408&#45;&gt;1794345619472*</title>\n",
       "<path fill=\"none\" stroke=\"black\" d=\"M826.6,-110.81C835.76,-109.16 844.62,-107.56 852.67,-106.1\"/>\n",
       "<polygon fill=\"black\" stroke=\"black\" points=\"853.09,-109.58 862.31,-104.36 851.84,-102.7 853.09,-109.58\"/>\n",
       "</g>\n",
       "<!-- 1794345618560 -->\n",
       "<g id=\"node4\" class=\"node\">\n",
       "<title>1794345618560</title>\n",
       "<polygon fill=\"none\" stroke=\"black\" points=\"639,-54.5 639,-90.5 827.25,-90.5 827.25,-54.5 639,-54.5\"/>\n",
       "<text text-anchor=\"middle\" x=\"650.38\" y=\"-67.7\" font-family=\"Times New Roman,serif\" font-size=\"14.00\">d</text>\n",
       "<polyline fill=\"none\" stroke=\"black\" points=\"661.75,-55 661.75,-90.5\"/>\n",
       "<text text-anchor=\"middle\" x=\"701.62\" y=\"-67.7\" font-family=\"Times New Roman,serif\" font-size=\"14.00\">data 4.0000</text>\n",
       "<polyline fill=\"none\" stroke=\"black\" points=\"741.5,-55 741.5,-90.5\"/>\n",
       "<text text-anchor=\"middle\" x=\"784.38\" y=\"-67.7\" font-family=\"Times New Roman,serif\" font-size=\"14.00\">grad &#45;2.0000</text>\n",
       "</g>\n",
       "<!-- 1794345618560&#45;&gt;1794345619472* -->\n",
       "<g id=\"edge4\" class=\"edge\">\n",
       "<title>1794345618560&#45;&gt;1794345619472*</title>\n",
       "<path fill=\"none\" stroke=\"black\" d=\"M827.49,-88.75C836.27,-90.28 844.77,-91.76 852.51,-93.1\"/>\n",
       "<polygon fill=\"black\" stroke=\"black\" points=\"851.66,-96.51 862.11,-94.78 852.86,-89.61 851.66,-96.51\"/>\n",
       "</g>\n",
       "<!-- 1794345618560+ -->\n",
       "<g id=\"node5\" class=\"node\">\n",
       "<title>1794345618560+</title>\n",
       "<ellipse fill=\"none\" stroke=\"black\" cx=\"576\" cy=\"-72.5\" rx=\"27\" ry=\"18\"/>\n",
       "<text text-anchor=\"middle\" x=\"576\" y=\"-67.45\" font-family=\"Times New Roman,serif\" font-size=\"14.00\">+</text>\n",
       "</g>\n",
       "<!-- 1794345618560+&#45;&gt;1794345618560 -->\n",
       "<g id=\"edge2\" class=\"edge\">\n",
       "<title>1794345618560+&#45;&gt;1794345618560</title>\n",
       "<path fill=\"none\" stroke=\"black\" d=\"M603.31,-72.5C610.49,-72.5 618.72,-72.5 627.47,-72.5\"/>\n",
       "<polygon fill=\"black\" stroke=\"black\" points=\"627.29,-76 637.29,-72.5 627.29,-69 627.29,-76\"/>\n",
       "</g>\n",
       "<!-- 1794345626768 -->\n",
       "<g id=\"node6\" class=\"node\">\n",
       "<title>1794345626768</title>\n",
       "<polygon fill=\"none\" stroke=\"black\" points=\"0,-55.5 0,-91.5 192.75,-91.5 192.75,-55.5 0,-55.5\"/>\n",
       "<text text-anchor=\"middle\" x=\"11.38\" y=\"-68.7\" font-family=\"Times New Roman,serif\" font-size=\"14.00\">b</text>\n",
       "<polyline fill=\"none\" stroke=\"black\" points=\"22.75,-56 22.75,-91.5\"/>\n",
       "<text text-anchor=\"middle\" x=\"64.88\" y=\"-68.7\" font-family=\"Times New Roman,serif\" font-size=\"14.00\">data &#45;3.0000</text>\n",
       "<polyline fill=\"none\" stroke=\"black\" points=\"107,-56 107,-91.5\"/>\n",
       "<text text-anchor=\"middle\" x=\"149.88\" y=\"-68.7\" font-family=\"Times New Roman,serif\" font-size=\"14.00\">grad &#45;4.0000</text>\n",
       "</g>\n",
       "<!-- 1794345617264* -->\n",
       "<g id=\"node10\" class=\"node\">\n",
       "<title>1794345617264*</title>\n",
       "<ellipse fill=\"none\" stroke=\"black\" cx=\"255.75\" cy=\"-45.5\" rx=\"27\" ry=\"18\"/>\n",
       "<text text-anchor=\"middle\" x=\"255.75\" y=\"-40.45\" font-family=\"Times New Roman,serif\" font-size=\"14.00\">*</text>\n",
       "</g>\n",
       "<!-- 1794345626768&#45;&gt;1794345617264* -->\n",
       "<g id=\"edge7\" class=\"edge\">\n",
       "<title>1794345626768&#45;&gt;1794345617264*</title>\n",
       "<path fill=\"none\" stroke=\"black\" d=\"M193,-56.49C201.81,-54.92 210.32,-53.41 218.06,-52.03\"/>\n",
       "<polygon fill=\"black\" stroke=\"black\" points=\"218.43,-55.52 227.66,-50.32 217.21,-48.62 218.43,-55.52\"/>\n",
       "</g>\n",
       "<!-- 1794345616064 -->\n",
       "<g id=\"node7\" class=\"node\">\n",
       "<title>1794345616064</title>\n",
       "<polygon fill=\"none\" stroke=\"black\" points=\"4.88,-0.5 4.88,-36.5 187.88,-36.5 187.88,-0.5 4.88,-0.5\"/>\n",
       "<text text-anchor=\"middle\" x=\"15.88\" y=\"-13.7\" font-family=\"Times New Roman,serif\" font-size=\"14.00\">a</text>\n",
       "<polyline fill=\"none\" stroke=\"black\" points=\"26.88,-1 26.88,-36.5\"/>\n",
       "<text text-anchor=\"middle\" x=\"66.75\" y=\"-13.7\" font-family=\"Times New Roman,serif\" font-size=\"14.00\">data 2.0000</text>\n",
       "<polyline fill=\"none\" stroke=\"black\" points=\"106.62,-1 106.62,-36.5\"/>\n",
       "<text text-anchor=\"middle\" x=\"147.25\" y=\"-13.7\" font-family=\"Times New Roman,serif\" font-size=\"14.00\">grad 6.0000</text>\n",
       "</g>\n",
       "<!-- 1794345616064&#45;&gt;1794345617264* -->\n",
       "<g id=\"edge6\" class=\"edge\">\n",
       "<title>1794345616064&#45;&gt;1794345617264*</title>\n",
       "<path fill=\"none\" stroke=\"black\" d=\"M188.01,-34.05C198.46,-35.84 208.62,-37.59 217.74,-39.15\"/>\n",
       "<polygon fill=\"black\" stroke=\"black\" points=\"217.11,-42.59 227.56,-40.84 218.3,-35.69 217.11,-42.59\"/>\n",
       "</g>\n",
       "<!-- 1794345624272 -->\n",
       "<g id=\"node8\" class=\"node\">\n",
       "<title>1794345624272</title>\n",
       "<polygon fill=\"none\" stroke=\"black\" points=\"318.75,-82.5 318.75,-118.5 513,-118.5 513,-82.5 318.75,-82.5\"/>\n",
       "<text text-anchor=\"middle\" x=\"329.75\" y=\"-95.7\" font-family=\"Times New Roman,serif\" font-size=\"14.00\">e</text>\n",
       "<polyline fill=\"none\" stroke=\"black\" points=\"340.75,-83 340.75,-118.5\"/>\n",
       "<text text-anchor=\"middle\" x=\"384\" y=\"-95.7\" font-family=\"Times New Roman,serif\" font-size=\"14.00\">data 10.0000</text>\n",
       "<polyline fill=\"none\" stroke=\"black\" points=\"427.25,-83 427.25,-118.5\"/>\n",
       "<text text-anchor=\"middle\" x=\"470.12\" y=\"-95.7\" font-family=\"Times New Roman,serif\" font-size=\"14.00\">grad &#45;2.0000</text>\n",
       "</g>\n",
       "<!-- 1794345624272&#45;&gt;1794345618560+ -->\n",
       "<g id=\"edge9\" class=\"edge\">\n",
       "<title>1794345624272&#45;&gt;1794345618560+</title>\n",
       "<path fill=\"none\" stroke=\"black\" d=\"M513.41,-83.41C522.21,-81.85 530.7,-80.34 538.42,-78.98\"/>\n",
       "<polygon fill=\"black\" stroke=\"black\" points=\"538.77,-82.47 548,-77.28 537.55,-75.58 538.77,-82.47\"/>\n",
       "</g>\n",
       "<!-- 1794345617264 -->\n",
       "<g id=\"node9\" class=\"node\">\n",
       "<title>1794345617264</title>\n",
       "<polygon fill=\"none\" stroke=\"black\" points=\"319.88,-27.5 319.88,-63.5 511.88,-63.5 511.88,-27.5 319.88,-27.5\"/>\n",
       "<text text-anchor=\"middle\" x=\"330.88\" y=\"-40.7\" font-family=\"Times New Roman,serif\" font-size=\"14.00\">c</text>\n",
       "<polyline fill=\"none\" stroke=\"black\" points=\"341.88,-28 341.88,-63.5\"/>\n",
       "<text text-anchor=\"middle\" x=\"384\" y=\"-40.7\" font-family=\"Times New Roman,serif\" font-size=\"14.00\">data &#45;6.0000</text>\n",
       "<polyline fill=\"none\" stroke=\"black\" points=\"426.12,-28 426.12,-63.5\"/>\n",
       "<text text-anchor=\"middle\" x=\"469\" y=\"-40.7\" font-family=\"Times New Roman,serif\" font-size=\"14.00\">grad &#45;2.0000</text>\n",
       "</g>\n",
       "<!-- 1794345617264&#45;&gt;1794345618560+ -->\n",
       "<g id=\"edge8\" class=\"edge\">\n",
       "<title>1794345617264&#45;&gt;1794345618560+</title>\n",
       "<path fill=\"none\" stroke=\"black\" d=\"M512.05,-61.75C521.28,-63.33 530.2,-64.85 538.29,-66.23\"/>\n",
       "<polygon fill=\"black\" stroke=\"black\" points=\"537.53,-69.65 547.98,-67.89 538.71,-62.75 537.53,-69.65\"/>\n",
       "</g>\n",
       "<!-- 1794345617264*&#45;&gt;1794345617264 -->\n",
       "<g id=\"edge3\" class=\"edge\">\n",
       "<title>1794345617264*&#45;&gt;1794345617264</title>\n",
       "<path fill=\"none\" stroke=\"black\" d=\"M283.22,-45.5C290.59,-45.5 299.09,-45.5 308.13,-45.5\"/>\n",
       "<polygon fill=\"black\" stroke=\"black\" points=\"307.89,-49 317.89,-45.5 307.89,-42 307.89,-49\"/>\n",
       "</g>\n",
       "</g>\n",
       "</svg>\n"
      ],
      "text/plain": [
       "<graphviz.graphs.Digraph at 0x1a1c7554cb0>"
      ]
     },
     "execution_count": 118,
     "metadata": {},
     "output_type": "execute_result"
    }
   ],
   "source": [
    "draw_dot(L)"
   ]
  },
  {
   "cell_type": "code",
   "execution_count": null,
   "id": "79350237-161f-44a0-80ba-ef0494e1bbf3",
   "metadata": {},
   "outputs": [],
   "source": []
  }
 ],
 "metadata": {
  "kernelspec": {
   "display_name": "Python [conda env:base] *",
   "language": "python",
   "name": "conda-base-py"
  },
  "language_info": {
   "codemirror_mode": {
    "name": "ipython",
    "version": 3
   },
   "file_extension": ".py",
   "mimetype": "text/x-python",
   "name": "python",
   "nbconvert_exporter": "python",
   "pygments_lexer": "ipython3",
   "version": "3.12.7"
  }
 },
 "nbformat": 4,
 "nbformat_minor": 5
}
